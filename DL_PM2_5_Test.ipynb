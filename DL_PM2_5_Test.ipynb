{
  "nbformat": 4,
  "nbformat_minor": 0,
  "metadata": {
    "colab": {
      "provenance": [],
      "authorship_tag": "ABX9TyO9cABG8JIAm/eye0h/Va1T",
      "include_colab_link": true
    },
    "kernelspec": {
      "name": "python3",
      "display_name": "Python 3"
    },
    "accelerator": "GPU"
  },
  "cells": [
    {
      "cell_type": "markdown",
      "metadata": {
        "id": "view-in-github",
        "colab_type": "text"
      },
      "source": [
        "<a href=\"https://colab.research.google.com/github/krittintrs/DL-for-PM2.5-Prediction/blob/main/DL_PM2_5_Test.ipynb\" target=\"_parent\"><img src=\"https://colab.research.google.com/assets/colab-badge.svg\" alt=\"Open In Colab\"/></a>"
      ]
    },
    {
      "cell_type": "markdown",
      "metadata": {
        "id": "l0Ltfiu_pblh"
      },
      "source": [
        "Change CWD to My Drive"
      ]
    },
    {
      "cell_type": "code",
      "metadata": {
        "id": "xA6UmmB6eUe0",
        "colab": {
          "base_uri": "https://localhost:8080/"
        },
        "outputId": "0408594b-c5c1-451f-c962-79959f3fe457"
      },
      "source": [
        "from google.colab import drive\n",
        "drive.mount('/content/gdrive')"
      ],
      "execution_count": null,
      "outputs": [
        {
          "output_type": "stream",
          "text": [
            "Mounted at /content/gdrive\n"
          ],
          "name": "stdout"
        }
      ]
    },
    {
      "cell_type": "code",
      "metadata": {
        "id": "Tv2uHZc3dNg9",
        "colab": {
          "base_uri": "https://localhost:8080/"
        },
        "outputId": "e194090b-96d3-42d0-a270-4db0b3e7a76d"
      },
      "source": [
        "import os\n",
        "\n",
        "cwd = os.getcwd()  # Get the current working directory (cwd)\n",
        "files = os.listdir(cwd)  # Get all the files in that directory\n",
        "os.chdir('/content/gdrive/My Drive/')\n",
        "cwd = os.getcwd()\n",
        "print(\"Files in %r: %s\" % (cwd, files))"
      ],
      "execution_count": null,
      "outputs": [
        {
          "output_type": "stream",
          "text": [
            "Files in '/content/gdrive/My Drive': ['.config', 'gdrive', 'sample_data']\n"
          ],
          "name": "stdout"
        }
      ]
    },
    {
      "cell_type": "markdown",
      "metadata": {
        "id": "i99Q1YRJKPNE"
      },
      "source": [
        "PM2.5 Thai based on house price model"
      ]
    },
    {
      "cell_type": "code",
      "metadata": {
        "scrolled": false,
        "id": "opqFYK4xSik_"
      },
      "source": [
        "from keras import regularizers\n",
        "from keras.callbacks import EarlyStopping ,ModelCheckpoint\n",
        "from keras.models import Sequential\n",
        "from math import sqrt\n",
        "from scipy.interpolate import interpn\n",
        "from sklearn.externals import joblib\n",
        "from sklearn.metrics import mean_squared_error\n",
        "from sklearn.metrics import mean_absolute_error\n",
        "from sklearn.metrics import r2_score\n",
        "from sklearn.model_selection import train_test_split\n",
        "from sklearn.preprocessing import StandardScaler,MinMaxScaler,RobustScaler\n",
        "import matplotlib\n",
        "import matplotlib.pyplot as plt\n",
        "import numpy as np\n",
        "import pandas as pd\n",
        "from keras.layers import Dense\n",
        "\n",
        "#file = './DL/project_5m.csv'\n",
        "file = './DL/project(noday).csv'\n",
        "#head = 'test'\n",
        "hint = file[5:-4]#'project1(edit)'\n",
        "df = pd.read_csv(file, na_values=['-', ' '])\n",
        "df = df.drop(df.columns[df.columns.str.contains('Bangna',case = False)],axis = 1) \n",
        "\n",
        "# filtering the missing values based on features of experiment\n",
        "\n",
        "df_=df[(df['pm2.5'] >= 0) & (df['pm2.5_lag1']>= 0) & (df['pm2.5_lag2']>= 0)].reset_index(drop=True)\n",
        "\n",
        "# X=input features and Y=target selection  \n",
        "\n",
        "y=df_[['pm2.5']]\n",
        "\n",
        "LIST=['rainfall',\n",
        "      'rainfall_lag1',\n",
        "      'rainfall_lag2',\n",
        "      'RH',\n",
        "      'wind_speed',\n",
        "      'temp',\n",
        "      'pm2.5_lag1',\n",
        "      'pm2.5_lag2',\n",
        "      #'dayofyear',\n",
        "      #'weekday',\n",
        "      'visibility'\n",
        "      ]\n",
        "\n",
        "#ttest = 'visibility'\n",
        "\n",
        "x=df_[LIST]\n",
        "#x=df_[[ttest]]\n",
        "\n",
        "# Normalization\n",
        "scaler_list=['standard'] #'minmax','robust',\n",
        "for scaller in scaler_list:\n",
        "    if scaller== 'standard':\n",
        "        scalerx = StandardScaler().fit(x)\n",
        "        scalery = StandardScaler().fit(y)\n",
        "    elif scaller == 'robust':\n",
        "        scalerx = RobustScaler().fit(x)\n",
        "        scalery = RobustScaler().fit(y)\n",
        "    elif scaller == 'minmax':\n",
        "        scalerx = MinMaxScaler(feature_range=(-1, 1)).fit(x)\n",
        "        scalery = MinMaxScaler(feature_range=(-1, 1)).fit(y)\n",
        "# Scale the train set\n",
        "    x1 = scalerx.transform(x)\n",
        "    y1 = scalery.transform(y)\n",
        "    dataset_size=len(x1)\n",
        "    train_data, test_data, train_targets , test_targets = train_test_split(x1, y1, test_size=0.30, random_state=3)\n",
        "# save scaler\n",
        "    scaler_filename = './DL/scaler/'+scaller+'/'+hint+'/XHscaler.save'\n",
        "    joblib.dump(scalerx, scaler_filename) \n",
        "    scaler_filename = './DL/scaler/'+scaller+'/'+hint+'/YHscaler.save'\n",
        "    joblib.dump(scalery, scaler_filename) "
      ],
      "execution_count": null,
      "outputs": []
    },
    {
      "cell_type": "code",
      "metadata": {
        "colab": {
          "base_uri": "https://localhost:8080/",
          "height": 204
        },
        "id": "F68QX0bfsyWk",
        "outputId": "fe775897-5e1d-4d2e-ddd4-7ee2be0f09ac"
      },
      "source": [
        "x.head()"
      ],
      "execution_count": null,
      "outputs": [
        {
          "output_type": "execute_result",
          "data": {
            "text/html": [
              "<div>\n",
              "<style scoped>\n",
              "    .dataframe tbody tr th:only-of-type {\n",
              "        vertical-align: middle;\n",
              "    }\n",
              "\n",
              "    .dataframe tbody tr th {\n",
              "        vertical-align: top;\n",
              "    }\n",
              "\n",
              "    .dataframe thead th {\n",
              "        text-align: right;\n",
              "    }\n",
              "</style>\n",
              "<table border=\"1\" class=\"dataframe\">\n",
              "  <thead>\n",
              "    <tr style=\"text-align: right;\">\n",
              "      <th></th>\n",
              "      <th>rainfall</th>\n",
              "      <th>rainfall_lag1</th>\n",
              "      <th>rainfall_lag2</th>\n",
              "      <th>RH</th>\n",
              "      <th>wind_speed</th>\n",
              "      <th>temp</th>\n",
              "      <th>pm2.5_lag1</th>\n",
              "      <th>pm2.5_lag2</th>\n",
              "      <th>visibility</th>\n",
              "    </tr>\n",
              "  </thead>\n",
              "  <tbody>\n",
              "    <tr>\n",
              "      <th>0</th>\n",
              "      <td>0.0</td>\n",
              "      <td>0.0</td>\n",
              "      <td>0.0</td>\n",
              "      <td>59.0</td>\n",
              "      <td>8.0</td>\n",
              "      <td>27.8</td>\n",
              "      <td>39.0</td>\n",
              "      <td>34.0</td>\n",
              "      <td>10.0</td>\n",
              "    </tr>\n",
              "    <tr>\n",
              "      <th>1</th>\n",
              "      <td>0.0</td>\n",
              "      <td>0.0</td>\n",
              "      <td>0.0</td>\n",
              "      <td>62.0</td>\n",
              "      <td>10.0</td>\n",
              "      <td>29.2</td>\n",
              "      <td>42.0</td>\n",
              "      <td>39.0</td>\n",
              "      <td>10.0</td>\n",
              "    </tr>\n",
              "    <tr>\n",
              "      <th>2</th>\n",
              "      <td>0.0</td>\n",
              "      <td>0.0</td>\n",
              "      <td>0.0</td>\n",
              "      <td>63.0</td>\n",
              "      <td>8.0</td>\n",
              "      <td>30.1</td>\n",
              "      <td>42.0</td>\n",
              "      <td>42.0</td>\n",
              "      <td>10.0</td>\n",
              "    </tr>\n",
              "    <tr>\n",
              "      <th>3</th>\n",
              "      <td>0.0</td>\n",
              "      <td>0.0</td>\n",
              "      <td>0.0</td>\n",
              "      <td>63.0</td>\n",
              "      <td>9.0</td>\n",
              "      <td>30.0</td>\n",
              "      <td>43.0</td>\n",
              "      <td>42.0</td>\n",
              "      <td>10.0</td>\n",
              "    </tr>\n",
              "    <tr>\n",
              "      <th>4</th>\n",
              "      <td>0.0</td>\n",
              "      <td>0.0</td>\n",
              "      <td>0.0</td>\n",
              "      <td>69.0</td>\n",
              "      <td>8.0</td>\n",
              "      <td>29.9</td>\n",
              "      <td>32.0</td>\n",
              "      <td>43.0</td>\n",
              "      <td>10.0</td>\n",
              "    </tr>\n",
              "  </tbody>\n",
              "</table>\n",
              "</div>"
            ],
            "text/plain": [
              "   rainfall  rainfall_lag1  rainfall_lag2  ...  pm2.5_lag1  pm2.5_lag2  visibility\n",
              "0       0.0            0.0            0.0  ...        39.0        34.0        10.0\n",
              "1       0.0            0.0            0.0  ...        42.0        39.0        10.0\n",
              "2       0.0            0.0            0.0  ...        42.0        42.0        10.0\n",
              "3       0.0            0.0            0.0  ...        43.0        42.0        10.0\n",
              "4       0.0            0.0            0.0  ...        32.0        43.0        10.0\n",
              "\n",
              "[5 rows x 9 columns]"
            ]
          },
          "metadata": {
            "tags": []
          },
          "execution_count": 136
        }
      ]
    },
    {
      "cell_type": "code",
      "metadata": {
        "id": "WSQ9rY73MGVE"
      },
      "source": [
        "y#Project Model\n",
        "from keras import models\n",
        "from keras import layers\n",
        "\n",
        "def build_model():\n",
        "        opt='adam'#'rmsprop'\n",
        "        model = Sequential()\n",
        "        model.add(Dense(12, input_dim=train_data.shape[1], activation='relu'))\n",
        "        model.add(Dense(12, activation='relu',kernel_regularizer=regularizers.l2(0.002)))\n",
        "        model.add(Dense(12, activation='relu',kernel_regularizer=regularizers.l2(0.002)))\n",
        "        #model.add(Dense(12, activation='relu',kernel_regularizer=regularizers.l2(0.002)))\n",
        "        #model.add(Dense(12, \n",
        "        #                kernel_regularizer=regularizers.l2(0.001),\n",
        "        #                activity_regularizer=regularizers.l1(0.001),activation='relu'))\n",
        "        model.add(Dense(1))\n",
        "        model.compile(loss='mean_squared_error',\n",
        "                      optimizer=opt,\n",
        "                      metrics=['mae'])\n",
        "        return model\n",
        "    #model.compile(optimizer='rmsprop', loss='mse', metrics=['mae'])\n",
        "    #return model"
      ],
      "execution_count": null,
      "outputs": []
    },
    {
      "cell_type": "code",
      "metadata": {
        "id": "JZKw7GB3b7wf"
      },
      "source": [
        "from keras import backend as K\n",
        "\n",
        "# Some memory clean-up\n",
        "K.clear_session()"
      ],
      "execution_count": null,
      "outputs": []
    },
    {
      "cell_type": "code",
      "metadata": {
        "id": "fpk-ek2OLoxD"
      },
      "source": [
        "import numpy as np\n",
        "\n",
        "k = 4\n",
        "num_val_samples = len(train_data) // k\n",
        "num_epochs = 300\n",
        "all_mae_histories = []\n",
        "for i in range(k):\n",
        "    print('processing fold #', i)\n",
        "    import datetime\n",
        "    start_time  = datetime.datetime.now()\n",
        "    # Prepare the validation data: data from partition # k\n",
        "    val_data = train_data[i * num_val_samples: (i + 1) * num_val_samples]\n",
        "    val_targets = train_targets[i * num_val_samples: (i + 1) * num_val_samples]\n",
        "\n",
        "    # Prepare the training data: data from all other partitions\n",
        "    partial_train_data = np.concatenate(\n",
        "        [train_data[:i * num_val_samples],\n",
        "         train_data[(i + 1) * num_val_samples:]],\n",
        "        axis=0)\n",
        "    partial_train_targets = np.concatenate(\n",
        "        [train_targets[:i * num_val_samples],\n",
        "         train_targets[(i + 1) * num_val_samples:]],\n",
        "        axis=0)\n",
        "\n",
        "    # Build the Keras model (already compiled)\n",
        "    model = build_model()\n",
        "    # Train the model (in silent mode, verbose=0)\n",
        "    history = model.fit(partial_train_data, partial_train_targets,\n",
        "                        validation_data=(val_data, val_targets),\n",
        "                        epochs=num_epochs, batch_size=1, verbose=0)\n",
        "    mae_history = history.history['val_mae']\n",
        "    all_mae_histories.append(mae_history)\n",
        "  \n",
        "    test_mse_score, test_mae_score = model.evaluate(test_data, test_targets)\n",
        "    end_time = datetime.datetime.now()\n",
        "    print ('Select Done..., Time Cost: %d' % ((end_time - start_time).seconds)) "
      ],
      "execution_count": null,
      "outputs": []
    },
    {
      "cell_type": "code",
      "metadata": {
        "id": "O90Fj1YbLsci"
      },
      "source": [
        "count = '3'\n",
        "average_mae_history = [np.mean([x[i] for x in all_mae_histories]) for i in range(num_epochs)]\n",
        "import matplotlib.pyplot as plt\n",
        "figt = plt.gcf()\n",
        "plt.plot(range(1, len(average_mae_history) + 1), average_mae_history)\n",
        "plt.xlabel('Epochs')\n",
        "plt.ylabel('Validation MAE')\n",
        "#plt.xticks([2,4,6,8,10,12,14,16,18,20])\n",
        "plt.show()\n",
        "#figt.savefig('./DL/scaler/'+scaller+'/'+hint+'/test/epoch'+count+'_house_'+hint+'.png')"
      ],
      "execution_count": null,
      "outputs": []
    },
    {
      "cell_type": "code",
      "metadata": {
        "id": "TaJgwmCwLyVC"
      },
      "source": [
        "def smooth_curve(points, factor=0.9):\n",
        "  smoothed_points = []\n",
        "  for point in points:\n",
        "    if smoothed_points:\n",
        "      previous = smoothed_points[-1]\n",
        "      smoothed_points.append(previous * factor + point * (1 - factor))\n",
        "    else:\n",
        "      smoothed_points.append(point)\n",
        "  return smoothed_points\n",
        "\n",
        "smooth_mae_history = smooth_curve(average_mae_history[10:])\n",
        "figt2 = plt.gcf()\n",
        "plt.plot(range(1, len(smooth_mae_history) + 1), smooth_mae_history)\n",
        "plt.xlabel('Epochs')\n",
        "plt.ylabel('Validation MAE')\n",
        "plt.show()\n",
        "#figt2.savefig('./DL/scaler/'+scaller+'/'+hint+'/test/smooth'+count+'_house_'+hint+'.png')"
      ],
      "execution_count": null,
      "outputs": []
    },
    {
      "cell_type": "code",
      "metadata": {
        "id": "EcGrqkOxNrHK",
        "colab": {
          "base_uri": "https://localhost:8080/"
        },
        "outputId": "6eb1495d-50c3-4767-802e-dbac65e2894c"
      },
      "source": [
        "# Get a fresh, compiled model.\n",
        "model = build_model()\n",
        "# Train it on the entirety of the data.\n",
        "import datetime\n",
        "start_time  = datetime.datetime.now()\n",
        "model.fit(train_data, train_targets,epochs=150, verbose=0)\n",
        "test_mse_score, test_mae_score = model.evaluate(test_data, test_targets)\n",
        "end_time = datetime.datetime.now()\n",
        "print ('Select Done..., Time Cost: %d' % ((end_time - start_time).seconds)) "
      ],
      "execution_count": null,
      "outputs": [
        {
          "output_type": "stream",
          "text": [
            "WARNING:tensorflow:6 out of the last 11 calls to <function Model.make_test_function.<locals>.test_function at 0x7fce30c89320> triggered tf.function retracing. Tracing is expensive and the excessive number of tracings could be due to (1) creating @tf.function repeatedly in a loop, (2) passing tensors with different shapes, (3) passing Python objects instead of tensors. For (1), please define your @tf.function outside of the loop. For (2), @tf.function has experimental_relax_shapes=True option that relaxes argument shapes that can avoid unnecessary retracing. For (3), please refer to https://www.tensorflow.org/guide/function#controlling_retracing and https://www.tensorflow.org/api_docs/python/tf/function for  more details.\n",
            "2/2 [==============================] - 0s 7ms/step - loss: 0.3492 - mae: 0.3982\n",
            "Select Done..., Time Cost: 1\n"
          ],
          "name": "stdout"
        }
      ]
    },
    {
      "cell_type": "code",
      "metadata": {
        "id": "vsJHkbkHDRtw",
        "colab": {
          "base_uri": "https://localhost:8080/"
        },
        "outputId": "2377b3f7-aaf6-4aa0-8e4c-f46971442011"
      },
      "source": [
        "test_mae_score"
      ],
      "execution_count": null,
      "outputs": [
        {
          "output_type": "execute_result",
          "data": {
            "text/plain": [
              "0.398207426071167"
            ]
          },
          "metadata": {
            "tags": []
          },
          "execution_count": 126
        }
      ]
    },
    {
      "cell_type": "code",
      "metadata": {
        "id": "tH35J2YkVHya",
        "colab": {
          "base_uri": "https://localhost:8080/"
        },
        "outputId": "4533ef9f-8893-426e-e1c8-4146eb938540"
      },
      "source": [
        "#LOAD Model\n",
        "from keras.models import load_model\n",
        "#hint = 'project_4m'\n",
        "hint = 'project(noday)'\n",
        "#head = '6 month(s) data'\n",
        "model = load_model('./DL/scaler/'+scaller+'/'+hint+'/result/model_'+hint+'.hdf5')\n",
        "print(model.summary())"
      ],
      "execution_count": null,
      "outputs": [
        {
          "output_type": "stream",
          "text": [
            "Model: \"sequential_88\"\n",
            "_________________________________________________________________\n",
            "Layer (type)                 Output Shape              Param #   \n",
            "=================================================================\n",
            "dense_349 (Dense)            (None, 12)                120       \n",
            "_________________________________________________________________\n",
            "dense_350 (Dense)            (None, 12)                156       \n",
            "_________________________________________________________________\n",
            "dense_351 (Dense)            (None, 12)                156       \n",
            "_________________________________________________________________\n",
            "dense_352 (Dense)            (None, 1)                 13        \n",
            "=================================================================\n",
            "Total params: 445\n",
            "Trainable params: 445\n",
            "Non-trainable params: 0\n",
            "_________________________________________________________________\n",
            "None\n"
          ],
          "name": "stdout"
        }
      ]
    },
    {
      "cell_type": "code",
      "metadata": {
        "id": "D-9umdelH6ok"
      },
      "source": [
        "# RMSE calculation function\n",
        "from math import sqrt\n",
        "def rmse(y_actual, y_predicted):\n",
        "    return sqrt(mean_squared_error(y_actual, y_predicted))"
      ],
      "execution_count": null,
      "outputs": []
    },
    {
      "cell_type": "code",
      "metadata": {
        "id": "DC7DCe3kzU9E"
      },
      "source": [
        "# MAPE calculation function\n",
        "def mape(y_true, y_pred):\n",
        "    y_true, y_pred = np.array(y_true), np.array(y_pred)\n",
        "    return np.mean(np.abs((y_true - y_pred) / y_true)) * 100"
      ],
      "execution_count": null,
      "outputs": []
    },
    {
      "cell_type": "code",
      "metadata": {
        "id": "F3OPhjJ6QHyl"
      },
      "source": [
        "    scalerx = joblib.load(\"./DL/scaler/\"+scaller+'/'+hint+\"/XHscaler.save\") \n",
        "    scalery = joblib.load(\"./DL/scaler/\"+scaller+'/'+hint+\"/YHscaler.save\") "
      ],
      "execution_count": null,
      "outputs": []
    },
    {
      "cell_type": "code",
      "metadata": {
        "id": "4FMJPTupIR9h"
      },
      "source": [
        "# density_scatter plot function \n",
        "\n",
        "def density_scatter( x , y, ax = None, sort = True, bins = 20, figsize=(6,4), **kwargs )   :\n",
        "    \"\"\"\n",
        "    Scatter plot colored by 2d histogram\n",
        "    \"\"\"\n",
        "    x=x.reshape(len(x))\n",
        "    y=y.reshape(len(y))\n",
        "    if ax is None :\n",
        "        fig , ax = plt.subplots(figsize=figsize)\n",
        "    data , x_e, y_e = np.histogram2d( x, y, bins = bins)\n",
        "    z = interpn( ( 0.5*(x_e[1:] + x_e[:-1]) , 0.5*(y_e[1:]+y_e[:-1]) ) , data , np.vstack([x,y]).T , method = \"splinef2d\", bounds_error = False )\n",
        "\n",
        "    # Sort the points by density, so that the densest points are plotted last\n",
        "    if sort :\n",
        "        idx = z.argsort()\n",
        "        x, y, z = x[idx], y[idx], z[idx]\n",
        "    cmap = matplotlib.cm.get_cmap('jet')\n",
        "    normalize = matplotlib.colors.Normalize(vmin=0, vmax=max(z))#min(z)\n",
        "    ax.scatter( x, y, c=z, **kwargs ,cmap=cmap)\n",
        "    cax, _ = matplotlib.colorbar.make_axes(ax)\n",
        "    cbar = matplotlib.colorbar.ColorbarBase(cax, cmap=cmap, norm=normalize)\n",
        "    z = np.polyfit(x, y, 1)\n",
        "    p = np.poly1d(z)\n",
        "    print(z)\n",
        "    ax.plot(x,p(x),\"r-\")\n",
        "    ax.plot(x,x,\":\",color='grey')\n",
        "    return ax,fig,z\n",
        "#======================================================================"
      ],
      "execution_count": null,
      "outputs": []
    },
    {
      "cell_type": "code",
      "metadata": {
        "id": "Gtk4hu_rCXzF"
      },
      "source": [
        "# evaluting the model using TRAIN dataset    \n",
        "dfte= pd.DataFrame( columns=['features','r2','mae','rmse'])\n",
        "y_pred = model.predict(train_data)\n",
        "y_predinv = scalery.inverse_transform(y_pred)\n",
        "y_testinv = scalery.inverse_transform(train_targets)     \n",
        "mae=mean_absolute_error(y_testinv, y_predinv)\n",
        "r2=r2_score( y_testinv, y_predinv)\n",
        "rmse_value= rmse(y_testinv, y_predinv)\n",
        "print(' R2 = %.3f '  % r2 )\n",
        "print(' MAE = %.3f '  % mae)\n",
        "print(' RMSE = %.3f '  % rmse_value)\n",
        "print(r2,'  ',mae,' ', rmse_value)\n",
        "data=['No', r2, mae, rmse_value] \n",
        "dftn=dfte.append(pd.DataFrame(  [data]  , columns=['features','r2','mae','rmse']))"
      ],
      "execution_count": null,
      "outputs": []
    },
    {
      "cell_type": "code",
      "metadata": {
        "id": "jO6VdGG4OLJR"
      },
      "source": [
        "    # ploting the results [TRAIN]\n",
        "    text='R2= '+format(r2, '.2f') + ' MAE= '+format(mae, '.2f')+ ' RMSE= '+format(rmse_value, '.2f')\n",
        "    ax,fig1,z=density_scatter( y_testinv.reshape(len(y_testinv)), y_predinv, bins = [15,15] , figsize=(10,8))\n",
        "    ax.set_title('Deep learning Modeling'  , fontsize=16,fontweight='bold')\n",
        "    pol_text='y=%.2f x+%.2f, DB size=%0.1fK' % (z[0],z[1],(dataset_size/1000))\n",
        "    ax.set_xlabel(\"Observed PM2.5\", fontsize=16)\n",
        "    ax.set_ylabel(\"Predicted PM2.5\", fontsize=16)\n",
        "    ax.legend([pol_text,'y=x ',text], fontsize='x-large')\n",
        "    ax.tick_params(axis='both', which='major', labelsize=12)\n",
        "    ax.patch.set_facecolor('white')\n",
        "    ax.set_ylim(0,100)\n",
        "    ax.set_xlim(0,100)\n",
        "    #fig1.savefig('./DL/scaler/'+scaller+'/'+hint+'/test/Trainset'+count+'_'+hint+'.png')"
      ],
      "execution_count": null,
      "outputs": []
    },
    {
      "cell_type": "code",
      "metadata": {
        "id": "m2dC_v_PQBU0"
      },
      "source": [
        "#model.save('./DL/scaler/'+scaller+'/'+hint+'/test/model'+count+'_'+hint+'.hdf5')"
      ],
      "execution_count": null,
      "outputs": []
    },
    {
      "cell_type": "code",
      "metadata": {
        "id": "aBXHl0AjPWHc",
        "colab": {
          "base_uri": "https://localhost:8080/"
        },
        "outputId": "477544bf-a008-4b02-910b-c9123eab833e"
      },
      "source": [
        "    # evaluting the model using TEST dataset    \n",
        "    dfte= pd.DataFrame( columns=['features','r2','mae','rmse'])\n",
        "    \n",
        "    y_pred = model.predict(test_data)\n",
        "    y_predinv = scalery.inverse_transform(y_pred)\n",
        "    y_testinv = scalery.inverse_transform(test_targets)     \n",
        "    mae=mean_absolute_error(y_testinv, y_predinv)\n",
        "    r2=r2_score( y_testinv, y_predinv)\n",
        "    rmse_value= rmse(y_testinv, y_predinv)\n",
        "    mape = mape(y_testinv, y_predinv)\n",
        "    print(' R2 = %.3f '  % r2 )\n",
        "    print(' MAE = %.3f '  % mae)\n",
        "    print(' RMSE = %.3f '  % rmse_value )\n",
        "    print(' MAPE = %.3f' % mape)\n",
        "    print(r2,'  ',mae,' ', rmse_value)\n",
        "    data=['No', r2, mae, rmse_value] \n",
        "    dftn=dfte.append(pd.DataFrame(  [data]  , columns=['features','r2','mae','rmse']))"
      ],
      "execution_count": null,
      "outputs": [
        {
          "output_type": "stream",
          "text": [
            " R2 = 0.676 \n",
            " MAE = 6.748 \n",
            " RMSE = 10.056 \n",
            " MAPE = 26.285\n",
            "0.6763161385063081    6.748289593943843   10.055557807452333\n"
          ],
          "name": "stdout"
        }
      ]
    },
    {
      "cell_type": "code",
      "metadata": {
        "id": "Nr7Q2CIfHXPx",
        "colab": {
          "base_uri": "https://localhost:8080/",
          "height": 527
        },
        "outputId": "67b13091-9f0a-461e-b917-8de9bd5c7fbe"
      },
      "source": [
        "    # ploting the results [TEST]\n",
        "    text='R2= '+format(r2, '.2f') + ' MAE= '+format(mae, '.2f')+ ' MAPE= '+format(mape, '.2f')\n",
        "    #' RMSE= '+format(rmse_value, '.2f')\n",
        "    ax,fig1,z=density_scatter( y_testinv.reshape(len(y_testinv)), y_predinv, bins = [15,15] , figsize=(10,8))\n",
        "    #ax.set_title(head , fontsize=16,fontweight='bold')\n",
        "    pol_text='y=%.2f x+%.2f, DB size=%0.1fK' % (z[0],z[1],(dataset_size/1000))\n",
        "    ax.set_xlabel(\"Observed PM2.5\", fontsize=16)\n",
        "    ax.set_ylabel(\"Predicted PM2.5\", fontsize=16)\n",
        "    ax.legend([pol_text,'y=x ',text], fontsize='x-large')\n",
        "    ax.tick_params(axis='both', which='major', labelsize=12)\n",
        "    ax.patch.set_facecolor('white')\n",
        "    ax.set_ylim(0,100)\n",
        "    ax.set_xlim(0,100)\n",
        "    fig1.savefig('./DL/scaler/'+scaller+'/1 data test/'+'RETEST'+'.svg')"
      ],
      "execution_count": null,
      "outputs": [
        {
          "output_type": "stream",
          "text": [
            "[0.72070846 5.48609691]\n"
          ],
          "name": "stdout"
        },
        {
          "output_type": "display_data",
          "data": {
            "image/png": "[encoded data removed]",
            "text/plain": [
              "<Figure size 720x576 with 2 Axes>"
            ]
          },
          "metadata": {
            "tags": [],
            "needs_background": "light"
          }
        }
      ]
    },
    {
      "cell_type": "code",
      "metadata": {
        "id": "rgEIG5DZUc7T"
      },
      "source": [],
      "execution_count": null,
      "outputs": []
    }
  ]
}