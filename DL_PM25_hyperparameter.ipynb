{
  "nbformat": 4,
  "nbformat_minor": 0,
  "metadata": {
    "kernelspec": {
      "name": "python3",
      "display_name": "Python 3"
    },
    "language_info": {
      "codemirror_mode": {
        "name": "ipython",
        "version": 3
      },
      "file_extension": ".py",
      "mimetype": "text/x-python",
      "name": "python",
      "nbconvert_exporter": "python",
      "pygments_lexer": "ipython3",
      "version": "3.6.9"
    },
    "colab": {
      "provenance": [],
      "toc_visible": true,
      "include_colab_link": true
    },
    "accelerator": "GPU"
  },
  "cells": [
    {
      "cell_type": "markdown",
      "metadata": {
        "id": "view-in-github",
        "colab_type": "text"
      },
      "source": [
        "<a href=\"https://colab.research.google.com/github/krittintrs/DL-for-PM2.5-Prediction/blob/main/DL_PM25_hyperparameter.ipynb\" target=\"_parent\"><img src=\"https://colab.research.google.com/assets/colab-badge.svg\" alt=\"Open In Colab\"/></a>"
      ]
    },
    {
      "cell_type": "markdown",
      "metadata": {
        "id": "l0Ltfiu_pblh"
      },
      "source": [
        "# Change directory to my Google Drive"
      ]
    },
    {
      "cell_type": "code",
      "metadata": {
        "id": "xA6UmmB6eUe0",
        "colab": {
          "base_uri": "https://localhost:8080/"
        },
        "outputId": "08f550d9-91e4-4d12-f1a0-889e73b2fc99"
      },
      "source": [
        "from google.colab import drive\n",
        "drive.mount('/content/gdrive')"
      ],
      "execution_count": 1,
      "outputs": [
        {
          "output_type": "stream",
          "name": "stdout",
          "text": [
            "Mounted at /content/gdrive\n"
          ]
        }
      ]
    },
    {
      "cell_type": "code",
      "metadata": {
        "id": "Tv2uHZc3dNg9",
        "colab": {
          "base_uri": "https://localhost:8080/"
        },
        "outputId": "c4c9bb50-1f29-4108-c86a-17e8c10dc9b5"
      },
      "source": [
        "import os\n",
        "\n",
        "cwd = os.getcwd()  # Get the current working directory (cwd)\n",
        "files = os.listdir(cwd)  # Get all the files in that directory\n",
        "os.chdir('/content/gdrive/My Drive/')\n",
        "cwd = os.getcwd()\n",
        "print(\"Files in %r: %s\" % (cwd, files))"
      ],
      "execution_count": 2,
      "outputs": [
        {
          "output_type": "stream",
          "name": "stdout",
          "text": [
            "Files in '/content/gdrive/My Drive': ['.config', 'gdrive', 'sample_data']\n"
          ]
        }
      ]
    },
    {
      "cell_type": "markdown",
      "source": [
        "# Hyperparameter Adjustment"
      ],
      "metadata": {
        "id": "aSLGRBek-yYx"
      }
    },
    {
      "cell_type": "markdown",
      "source": [
        "## Data Preparation"
      ],
      "metadata": {
        "id": "pAwAoBYD-4zj"
      }
    },
    {
      "cell_type": "markdown",
      "source": [
        "### Import libraries & files"
      ],
      "metadata": {
        "id": "KC4ibPAd_HnI"
      }
    },
    {
      "cell_type": "code",
      "metadata": {
        "scrolled": false,
        "id": "opqFYK4xSik_"
      },
      "source": [
        "from keras import regularizers\n",
        "from keras.callbacks import EarlyStopping ,ModelCheckpoint\n",
        "from keras.models import Sequential\n",
        "from math import sqrt\n",
        "from scipy.interpolate import interpn\n",
        "import joblib\n",
        "from sklearn.metrics import mean_squared_error\n",
        "from sklearn.metrics import mean_absolute_error\n",
        "from sklearn.metrics import r2_score\n",
        "from sklearn.model_selection import train_test_split\n",
        "from sklearn.preprocessing import StandardScaler,MinMaxScaler,RobustScaler\n",
        "import matplotlib\n",
        "import matplotlib.pyplot as plt\n",
        "import numpy as np\n",
        "import pandas as pd\n",
        "from keras.layers import Dense\n",
        "\n",
        "dir = './ESC/DL for Air Quality Prediction/'\n",
        "file_name = 'project(noday).csv'\n",
        "hint = file_name[:-4]\n",
        "df = pd.read_csv(dir+file_name, na_values=['-', ' '])\n",
        "df = df.drop(df.columns[df.columns.str.contains('Bangna',case = False)],axis = 1) \n",
        "\n",
        "# filtering the missing values based on features of experiment\n",
        "df_=df[(df['pm2.5'] >= 0) & (df['pm2.5_lag1']>= 0) & (df['pm2.5_lag2']>= 0)].reset_index(drop=True)\n",
        "\n",
        "# X=input features and Y=target selection  \n",
        "y=df_[['pm2.5']]\n",
        "\n",
        "LIST=['rainfall',\n",
        "      'rainfall_lag1',\n",
        "      'rainfall_lag2',\n",
        "      'RH',\n",
        "      'wind_speed',\n",
        "      'temp',\n",
        "      'pm2.5_lag1',\n",
        "      'pm2.5_lag2',\n",
        "      #'dayofyear',\n",
        "      #'weekday',\n",
        "      'visibility'\n",
        "      ]\n",
        "\n",
        "x=df_[LIST]\n"
      ],
      "execution_count": 3,
      "outputs": []
    },
    {
      "cell_type": "markdown",
      "source": [
        "### Normalization & Train-Test Split"
      ],
      "metadata": {
        "id": "VvI2zqUruTNr"
      }
    },
    {
      "cell_type": "code",
      "source": [
        "# Normalization\n",
        "scaler_list=['standard'] #'minmax','robust',\n",
        "for scaler in scaler_list:\n",
        "    if scaler== 'standard':\n",
        "        scalerx = StandardScaler().fit(x)\n",
        "        scalery = StandardScaler().fit(y)\n",
        "    elif scaler == 'robust':\n",
        "        scalerx = RobustScaler().fit(x)\n",
        "        scalery = RobustScaler().fit(y)\n",
        "    elif scaler == 'minmax':\n",
        "        scalerx = MinMaxScaler(feature_range=(-1, 1)).fit(x)\n",
        "        scalery = MinMaxScaler(feature_range=(-1, 1)).fit(y)\n",
        "# Scale the train set\n",
        "    x1 = scalerx.transform(x)\n",
        "    y1 = scalery.transform(y)\n",
        "    dataset_size=len(x1)\n",
        "    x_train, x_test, y_train, y_test = train_test_split(x1, y1, test_size=0.30, random_state=3)\n",
        "# save scaler\n",
        "    scaler_filename = dir+'/scaler/'+scaler+'/'+hint+'/XHscaler.save'\n",
        "    joblib.dump(scalerx, scaler_filename) \n",
        "    scaler_filename = dir+'/scaler/'+scaler+'/'+hint+'/YHscaler.save'\n",
        "    joblib.dump(scalery, scaler_filename) "
      ],
      "metadata": {
        "id": "QBhkecuZuSbz"
      },
      "execution_count": 14,
      "outputs": []
    },
    {
      "cell_type": "markdown",
      "source": [
        "## Comparing Hyperparameters"
      ],
      "metadata": {
        "id": "mnf6vGf__V8x"
      }
    },
    {
      "cell_type": "markdown",
      "source": [
        "Start from one layer and one node. <br />\n",
        "Then, increasing node until the result is worse. <br />\n",
        "After that, try increasing the layer. <br />\n",
        "Repeat this until found the architecture that give the best result."
      ],
      "metadata": {
        "id": "GbRH5QH5AWfl"
      }
    },
    {
      "cell_type": "code",
      "metadata": {
        "id": "IW-RNR1K--Ld"
      },
      "source": [
        "hyper1 = [6,6]\n",
        "hyper2 = [6,6,6]\n",
        "num_epochs = 100"
      ],
      "execution_count": 15,
      "outputs": []
    },
    {
      "cell_type": "markdown",
      "source": [
        "### Define 4-fold validation"
      ],
      "metadata": {
        "id": "nUvFqS3AA2jC"
      }
    },
    {
      "cell_type": "code",
      "metadata": {
        "id": "MwKHp4Cn-kQd"
      },
      "source": [
        "# define and fit model\n",
        "from tensorflow.python.keras.layers import Dense\n",
        "from tensorflow.python.keras import Sequential      \n",
        "        \n",
        "def train(x_train,y_train,x_test,y_test,getmodel,num_epochs):\n",
        "    model=getmodel\n",
        "    opt='adam'\n",
        "    model.compile(loss='mean_absolute_error',optimizer=opt,metrics=['mae'])\n",
        "        \n",
        "    # K-fold validation \n",
        "\n",
        "    k = 4\n",
        "    num_val_samples = len(x_train) // k\n",
        "    all_mae_histories = []\n",
        "\n",
        "    for i in range(k):\n",
        "        print('processing fold #', i)\n",
        "        val_data = x_train[i * num_val_samples: (i + 1) * num_val_samples]\n",
        "        val_targets = y_train[i * num_val_samples: (i + 1) * num_val_samples]\n",
        "    \n",
        "        partial_x_train = np.concatenate(\n",
        "            [x_train[:i * num_val_samples],\n",
        "            x_train[(i + 1) * num_val_samples:]],\n",
        "            axis=0)\n",
        "    \n",
        "        partial_y_train = np.concatenate(\n",
        "            [y_train[:i * num_val_samples],\n",
        "            y_train[(i + 1) * num_val_samples:]],\n",
        "            axis=0)\n",
        "\n",
        "        history = model.fit(partial_x_train, \n",
        "                            partial_y_train,\n",
        "                            validation_data=(val_data, val_targets),\n",
        "                            epochs=num_epochs, \n",
        "                            verbose=0)\n",
        "\n",
        "        mae_history = history.history['loss']\n",
        "        all_mae_histories.append(mae_history) \n",
        "    \n",
        "    return history ,model ,all_mae_histories"
      ],
      "execution_count": 38,
      "outputs": []
    },
    {
      "cell_type": "markdown",
      "source": [
        "### Train 1st Model"
      ],
      "metadata": {
        "id": "qXD9OzV6BVxg"
      }
    },
    {
      "cell_type": "code",
      "source": [
        "import datetime\n",
        "start_time = datetime.datetime.now()\n",
        "\n",
        "textnum1 = ''\n",
        "for num in hyper1: \n",
        "    textnum1 += str(num) + ' '\n",
        "    \n",
        "smodel = Sequential()\n",
        "smodel.add(Dense(hyper1[0], input_dim=x_train.shape[1], activation='relu'))\n",
        "smodel.add(Dense(hyper1[1], activation='relu',kernel_regularizer=regularizers.l2(0.002)))\n",
        "#smodel.add(Dense(hyper1[2], activation='relu',kernel_regularizer=regularizers.l2(0.002)))\n",
        "#smodel.add(Dense(hyper1[3], activation='relu',kernel_regularizer=regularizers.l2(0.002)))\n",
        "#smodel.add(Dense(20, \n",
        "#                kernel_regularizer=regularizers.l2(0.001),\n",
        "#                activity_regularizer=regularizers.l1(0.001),activation='relu'))\n",
        "# activity_regularizer can also be used.\n",
        "smodel.add(Dense(1))\n",
        "          \n",
        "history1,model1,all_mae_his1 = train(x_train,y_train,x_test,y_test,smodel,num_epochs)\n",
        "end_time = datetime.datetime.now()\n",
        "\n",
        "print ('Select Done..., Time Cost: %d' % ((end_time - start_time).seconds)) "
      ],
      "metadata": {
        "colab": {
          "base_uri": "https://localhost:8080/"
        },
        "id": "WsFLvEkCBGkq",
        "outputId": "f9b5421a-1670-4e8b-db40-29ac2a4a2a0a"
      },
      "execution_count": 39,
      "outputs": [
        {
          "output_type": "stream",
          "name": "stdout",
          "text": [
            "processing fold # 0\n",
            "processing fold # 1\n",
            "processing fold # 2\n",
            "processing fold # 3\n",
            "Select Done..., Time Cost: 9\n"
          ]
        }
      ]
    },
    {
      "cell_type": "markdown",
      "source": [
        "### Train 2nd Model"
      ],
      "metadata": {
        "id": "lw76lSjPBaFs"
      }
    },
    {
      "cell_type": "code",
      "metadata": {
        "id": "udrggS4E_Xjv",
        "colab": {
          "base_uri": "https://localhost:8080/"
        },
        "outputId": "44b05f0e-f7c1-4b97-b68a-dba8c32b3b4b"
      },
      "source": [
        "import datetime\n",
        "start_time = datetime.datetime.now()\n",
        "\n",
        "textnum2 =''\n",
        "\n",
        "for num in hyper2: \n",
        "    textnum2 += str(num) + ' '\n",
        "\n",
        "bmodel = Sequential()\n",
        "bmodel.add(Dense(hyper2[0], input_dim=x_train.shape[1], activation='relu'))\n",
        "bmodel.add(Dense(hyper2[1], activation='relu',kernel_regularizer=regularizers.l2(0.002)))\n",
        "bmodel.add(Dense(hyper2[2], activation='relu',kernel_regularizer=regularizers.l2(0.002)))\n",
        "#bmodel.add(Dense(hyper2[3], activation='relu',kernel_regularizer=regularizers.l2(0.002)))\n",
        "#bmodel.add(Dense(20, \n",
        "#                kernel_regularizer=regularizers.l2(0.001),\n",
        "#                activity_regularizer=regularizers.l1(0.001),activation='relu'))\n",
        "# activity_regularizer can also be used.\n",
        "bmodel.add(Dense(1))\n",
        "\n",
        "history2,model2,all_mae_his2 = train(x_train,y_train,x_test,y_test,bmodel,num_epochs)\n",
        "end_time = datetime.datetime.now()\n",
        "\n",
        "print ('Select Done..., Time Cost: %d' % ((end_time - start_time).seconds))     "
      ],
      "execution_count": 40,
      "outputs": [
        {
          "output_type": "stream",
          "name": "stdout",
          "text": [
            "processing fold # 0\n",
            "processing fold # 1\n",
            "processing fold # 2\n",
            "processing fold # 3\n",
            "Select Done..., Time Cost: 10\n"
          ]
        }
      ]
    },
    {
      "cell_type": "markdown",
      "source": [
        "### Model Summary"
      ],
      "metadata": {
        "id": "a2tC5ureCKnt"
      }
    },
    {
      "cell_type": "code",
      "metadata": {
        "id": "IAhu-HRW_z8Z"
      },
      "source": [
        "ave_mae_his1 = [np.mean([x[i] for x in all_mae_his1]) for i in range(num_epochs)]\n",
        "ave_mae_his2 = [np.mean([x[i] for x in all_mae_his2]) for i in range(num_epochs)]"
      ],
      "execution_count": 41,
      "outputs": []
    },
    {
      "cell_type": "code",
      "metadata": {
        "id": "DlsuPISMpNuQ",
        "colab": {
          "base_uri": "https://localhost:8080/"
        },
        "outputId": "d5dc6382-19a5-4ff5-c144-9dd46955947a"
      },
      "source": [
        "print(model1.summary())\n",
        "print(model2.summary())"
      ],
      "execution_count": 42,
      "outputs": [
        {
          "output_type": "stream",
          "name": "stdout",
          "text": [
            "Model: \"sequential_11\"\n",
            "_________________________________________________________________\n",
            "Layer (type)                 Output Shape              Param #   \n",
            "=================================================================\n",
            "dense_32 (Dense)             (None, 6)                 60        \n",
            "_________________________________________________________________\n",
            "dense_33 (Dense)             (None, 6)                 42        \n",
            "_________________________________________________________________\n",
            "dense_34 (Dense)             (None, 1)                 7         \n",
            "=================================================================\n",
            "Total params: 109\n",
            "Trainable params: 109\n",
            "Non-trainable params: 0\n",
            "_________________________________________________________________\n",
            "None\n",
            "Model: \"sequential_12\"\n",
            "_________________________________________________________________\n",
            "Layer (type)                 Output Shape              Param #   \n",
            "=================================================================\n",
            "dense_35 (Dense)             (None, 6)                 60        \n",
            "_________________________________________________________________\n",
            "dense_36 (Dense)             (None, 6)                 42        \n",
            "_________________________________________________________________\n",
            "dense_37 (Dense)             (None, 6)                 42        \n",
            "_________________________________________________________________\n",
            "dense_38 (Dense)             (None, 1)                 7         \n",
            "=================================================================\n",
            "Total params: 151\n",
            "Trainable params: 151\n",
            "Non-trainable params: 0\n",
            "_________________________________________________________________\n",
            "None\n"
          ]
        }
      ]
    },
    {
      "cell_type": "markdown",
      "source": [
        "## Plotting Result for Comparison"
      ],
      "metadata": {
        "id": "DrsNYpJUCQXG"
      }
    },
    {
      "cell_type": "code",
      "metadata": {
        "id": "1bBrqdAwsEjq",
        "colab": {
          "base_uri": "https://localhost:8080/",
          "height": 279
        },
        "outputId": "4be9dd54-1862-49dd-a885-38c74dd5de09"
      },
      "source": [
        "import matplotlib.pyplot as plt\n",
        "\n",
        "fig1 = plt.gcf()\n",
        "plt.plot(range(1, len(ave_mae_his1) + 1), ave_mae_his1,label='model1 : '+textnum1)\n",
        "plt.plot(range(1, len(ave_mae_his2) + 1), ave_mae_his2,label='model2 : '+textnum2)\n",
        "#plt.plot(epochs, original_val_loss, 'b+', label='Original model')\n",
        "plt.xlabel('Epochs')\n",
        "plt.ylabel('Validation MAE')\n",
        "plt.legend(loc='upper right')                                      \n",
        "plt.show()"
      ],
      "execution_count": 43,
      "outputs": [
        {
          "output_type": "display_data",
          "data": {
            "text/plain": [
              "<Figure size 432x288 with 1 Axes>"
            ],
            "image/png": "[encoded data removed]"
          },
          "metadata": {
            "needs_background": "light"
          }
        }
      ]
    },
    {
      "cell_type": "markdown",
      "source": [
        "From the graph, we can see that model2 (6x3) has a better result than model1 (6x2). Then, we should try comparing between 6x3 and 7x3."
      ],
      "metadata": {
        "id": "IpAjSGOXEzvs"
      }
    }
  ]
}