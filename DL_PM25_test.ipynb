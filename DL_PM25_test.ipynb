{
  "nbformat": 4,
  "nbformat_minor": 0,
  "metadata": {
    "colab": {
      "provenance": [],
      "toc_visible": true,
      "authorship_tag": "ABX9TyM6La6PM1s2RJERIRvkbNeg",
      "include_colab_link": true
    },
    "kernelspec": {
      "name": "python3",
      "display_name": "Python 3"
    },
    "accelerator": "GPU"
  },
  "cells": [
    {
      "cell_type": "markdown",
      "metadata": {
        "id": "view-in-github",
        "colab_type": "text"
      },
      "source": [
        "<a href=\"https://colab.research.google.com/github/krittintrs/DL-for-PM2.5-Prediction/blob/main/DL_PM25_test.ipynb\" target=\"_parent\"><img src=\"https://colab.research.google.com/assets/colab-badge.svg\" alt=\"Open In Colab\"/></a>"
      ]
    },
    {
      "cell_type": "markdown",
      "source": [
        "# Change directory to my Google Drive"
      ],
      "metadata": {
        "id": "Pu2X80XPt05_"
      }
    },
    {
      "cell_type": "code",
      "metadata": {
        "id": "xA6UmmB6eUe0",
        "colab": {
          "base_uri": "https://localhost:8080/"
        },
        "outputId": "e1874142-5563-46b6-84ac-0cb388e88b07"
      },
      "source": [
        "from google.colab import drive\n",
        "drive.mount('/content/gdrive')"
      ],
      "execution_count": 1,
      "outputs": [
        {
          "output_type": "stream",
          "name": "stdout",
          "text": [
            "Mounted at /content/gdrive\n"
          ]
        }
      ]
    },
    {
      "cell_type": "code",
      "metadata": {
        "id": "Tv2uHZc3dNg9",
        "colab": {
          "base_uri": "https://localhost:8080/"
        },
        "outputId": "ac54953f-0933-4162-f7bf-13a3e964bd8b"
      },
      "source": [
        "import os\n",
        "\n",
        "cwd = os.getcwd()  # Get the current working directory (cwd)\n",
        "files = os.listdir(cwd)  # Get all the files in that directory\n",
        "os.chdir('/content/gdrive/My Drive/')\n",
        "cwd = os.getcwd()\n",
        "print(\"Files in %r: %s\" % (cwd, files))"
      ],
      "execution_count": 2,
      "outputs": [
        {
          "output_type": "stream",
          "name": "stdout",
          "text": [
            "Files in '/content/gdrive/My Drive': ['.config', 'gdrive', 'sample_data']\n"
          ]
        }
      ]
    },
    {
      "cell_type": "markdown",
      "metadata": {
        "id": "i99Q1YRJKPNE"
      },
      "source": [
        "# PM2.5 Prediction Model"
      ]
    },
    {
      "cell_type": "markdown",
      "source": [
        "## Data Preparation"
      ],
      "metadata": {
        "id": "5nzLd4tXu4f0"
      }
    },
    {
      "cell_type": "markdown",
      "source": [
        "### Import libraries & files"
      ],
      "metadata": {
        "id": "aynBRn5juFcO"
      }
    },
    {
      "cell_type": "code",
      "metadata": {
        "scrolled": false,
        "id": "opqFYK4xSik_"
      },
      "source": [
        "from keras import regularizers\n",
        "from keras.callbacks import EarlyStopping ,ModelCheckpoint\n",
        "from keras.models import Sequential\n",
        "from math import sqrt\n",
        "from scipy.interpolate import interpn\n",
        "import joblib\n",
        "from sklearn.metrics import mean_squared_error\n",
        "from sklearn.metrics import mean_absolute_error\n",
        "from sklearn.metrics import r2_score\n",
        "from sklearn.model_selection import train_test_split\n",
        "from sklearn.preprocessing import StandardScaler,MinMaxScaler,RobustScaler\n",
        "import matplotlib\n",
        "import matplotlib.pyplot as plt\n",
        "import numpy as np\n",
        "import pandas as pd\n",
        "from keras.layers import Dense\n",
        "\n",
        "dir = './ESC/DL for Air Quality Prediction/'\n",
        "file_name = 'project(noday).csv'\n",
        "hint = file_name[:-4]\n",
        "df = pd.read_csv(dir+file_name, na_values=['-', ' '])\n",
        "df = df.drop(df.columns[df.columns.str.contains('Bangna',case = False)],axis = 1) \n",
        "\n",
        "# filtering the missing values based on features of experiment\n",
        "df_=df[(df['pm2.5'] >= 0) & (df['pm2.5_lag1']>= 0) & (df['pm2.5_lag2']>= 0)].reset_index(drop=True)\n",
        "\n",
        "# X=input features and Y=target selection  \n",
        "y=df_[['pm2.5']]\n",
        "\n",
        "LIST=['rainfall',\n",
        "      'rainfall_lag1',\n",
        "      'rainfall_lag2',\n",
        "      'RH',\n",
        "      'wind_speed',\n",
        "      'temp',\n",
        "      'pm2.5_lag1',\n",
        "      'pm2.5_lag2',\n",
        "      #'dayofyear',\n",
        "      #'weekday',\n",
        "      'visibility'\n",
        "      ]\n",
        "\n",
        "x=df_[LIST]"
      ],
      "execution_count": 21,
      "outputs": []
    },
    {
      "cell_type": "markdown",
      "source": [
        "### Normalization & Train-Test Split"
      ],
      "metadata": {
        "id": "VvI2zqUruTNr"
      }
    },
    {
      "cell_type": "code",
      "source": [
        "# Normalization\n",
        "scaler_list=['standard'] #'minmax','robust',\n",
        "for scaler in scaler_list:\n",
        "    if scaler== 'standard':\n",
        "        scalerx = StandardScaler().fit(x)\n",
        "        scalery = StandardScaler().fit(y)\n",
        "    elif scaler == 'robust':\n",
        "        scalerx = RobustScaler().fit(x)\n",
        "        scalery = RobustScaler().fit(y)\n",
        "    elif scaler == 'minmax':\n",
        "        scalerx = MinMaxScaler(feature_range=(-1, 1)).fit(x)\n",
        "        scalery = MinMaxScaler(feature_range=(-1, 1)).fit(y)\n",
        "# Scale the train set\n",
        "    x1 = scalerx.transform(x)\n",
        "    y1 = scalery.transform(y)\n",
        "    dataset_size=len(x1)\n",
        "    train_data, test_data, train_targets , test_targets = train_test_split(x1, y1, test_size=0.30, random_state=3)\n",
        "# save scaler\n",
        "    scaler_filename = dir+'/scaler/'+scaler+'/'+hint+'/XHscaler.save'\n",
        "    joblib.dump(scalerx, scaler_filename) \n",
        "    scaler_filename = dir+'/scaler/'+scaler+'/'+hint+'/YHscaler.save'\n",
        "    joblib.dump(scalery, scaler_filename) "
      ],
      "metadata": {
        "id": "QBhkecuZuSbz"
      },
      "execution_count": 22,
      "outputs": []
    },
    {
      "cell_type": "markdown",
      "source": [
        "Check Data"
      ],
      "metadata": {
        "id": "-3Udh6Oyudyu"
      }
    },
    {
      "cell_type": "code",
      "metadata": {
        "colab": {
          "base_uri": "https://localhost:8080/",
          "height": 206
        },
        "id": "F68QX0bfsyWk",
        "outputId": "2370e597-ea2d-4021-a2c9-aafc19adda78"
      },
      "source": [
        "x.head()"
      ],
      "execution_count": 23,
      "outputs": [
        {
          "output_type": "execute_result",
          "data": {
            "text/plain": [
              "   rainfall  rainfall_lag1  rainfall_lag2    RH  wind_speed  temp  pm2.5_lag1  \\\n",
              "0       0.0            0.0            0.0  59.0         8.0  27.8        39.0   \n",
              "1       0.0            0.0            0.0  62.0        10.0  29.2        42.0   \n",
              "2       0.0            0.0            0.0  63.0         8.0  30.1        42.0   \n",
              "3       0.0            0.0            0.0  63.0         9.0  30.0        43.0   \n",
              "4       0.0            0.0            0.0  69.0         8.0  29.9        32.0   \n",
              "\n",
              "   pm2.5_lag2  visibility  \n",
              "0        34.0        10.0  \n",
              "1        39.0        10.0  \n",
              "2        42.0        10.0  \n",
              "3        42.0        10.0  \n",
              "4        43.0        10.0  "
            ],
            "text/html": [
              "\n",
              "  <div id=\"df-4d27c220-76eb-4b99-b54e-58947f1571eb\">\n",
              "    <div class=\"colab-df-container\">\n",
              "      <div>\n",
              "<style scoped>\n",
              "    .dataframe tbody tr th:only-of-type {\n",
              "        vertical-align: middle;\n",
              "    }\n",
              "\n",
              "    .dataframe tbody tr th {\n",
              "        vertical-align: top;\n",
              "    }\n",
              "\n",
              "    .dataframe thead th {\n",
              "        text-align: right;\n",
              "    }\n",
              "</style>\n",
              "<table border=\"1\" class=\"dataframe\">\n",
              "  <thead>\n",
              "    <tr style=\"text-align: right;\">\n",
              "      <th></th>\n",
              "      <th>rainfall</th>\n",
              "      <th>rainfall_lag1</th>\n",
              "      <th>rainfall_lag2</th>\n",
              "      <th>RH</th>\n",
              "      <th>wind_speed</th>\n",
              "      <th>temp</th>\n",
              "      <th>pm2.5_lag1</th>\n",
              "      <th>pm2.5_lag2</th>\n",
              "      <th>visibility</th>\n",
              "    </tr>\n",
              "  </thead>\n",
              "  <tbody>\n",
              "    <tr>\n",
              "      <th>0</th>\n",
              "      <td>0.0</td>\n",
              "      <td>0.0</td>\n",
              "      <td>0.0</td>\n",
              "      <td>59.0</td>\n",
              "      <td>8.0</td>\n",
              "      <td>27.8</td>\n",
              "      <td>39.0</td>\n",
              "      <td>34.0</td>\n",
              "      <td>10.0</td>\n",
              "    </tr>\n",
              "    <tr>\n",
              "      <th>1</th>\n",
              "      <td>0.0</td>\n",
              "      <td>0.0</td>\n",
              "      <td>0.0</td>\n",
              "      <td>62.0</td>\n",
              "      <td>10.0</td>\n",
              "      <td>29.2</td>\n",
              "      <td>42.0</td>\n",
              "      <td>39.0</td>\n",
              "      <td>10.0</td>\n",
              "    </tr>\n",
              "    <tr>\n",
              "      <th>2</th>\n",
              "      <td>0.0</td>\n",
              "      <td>0.0</td>\n",
              "      <td>0.0</td>\n",
              "      <td>63.0</td>\n",
              "      <td>8.0</td>\n",
              "      <td>30.1</td>\n",
              "      <td>42.0</td>\n",
              "      <td>42.0</td>\n",
              "      <td>10.0</td>\n",
              "    </tr>\n",
              "    <tr>\n",
              "      <th>3</th>\n",
              "      <td>0.0</td>\n",
              "      <td>0.0</td>\n",
              "      <td>0.0</td>\n",
              "      <td>63.0</td>\n",
              "      <td>9.0</td>\n",
              "      <td>30.0</td>\n",
              "      <td>43.0</td>\n",
              "      <td>42.0</td>\n",
              "      <td>10.0</td>\n",
              "    </tr>\n",
              "    <tr>\n",
              "      <th>4</th>\n",
              "      <td>0.0</td>\n",
              "      <td>0.0</td>\n",
              "      <td>0.0</td>\n",
              "      <td>69.0</td>\n",
              "      <td>8.0</td>\n",
              "      <td>29.9</td>\n",
              "      <td>32.0</td>\n",
              "      <td>43.0</td>\n",
              "      <td>10.0</td>\n",
              "    </tr>\n",
              "  </tbody>\n",
              "</table>\n",
              "</div>\n",
              "      <button class=\"colab-df-convert\" onclick=\"convertToInteractive('df-4d27c220-76eb-4b99-b54e-58947f1571eb')\"\n",
              "              title=\"Convert this dataframe to an interactive table.\"\n",
              "              style=\"display:none;\">\n",
              "        \n",
              "  <svg xmlns=\"http://www.w3.org/2000/svg\" height=\"24px\"viewBox=\"0 0 24 24\"\n",
              "       width=\"24px\">\n",
              "    <path d=\"M0 0h24v24H0V0z\" fill=\"none\"/>\n",
              "    <path d=\"M18.56 5.44l.94 2.06.94-2.06 2.06-.94-2.06-.94-.94-2.06-.94 2.06-2.06.94zm-11 1L8.5 8.5l.94-2.06 2.06-.94-2.06-.94L8.5 2.5l-.94 2.06-2.06.94zm10 10l.94 2.06.94-2.06 2.06-.94-2.06-.94-.94-2.06-.94 2.06-2.06.94z\"/><path d=\"M17.41 7.96l-1.37-1.37c-.4-.4-.92-.59-1.43-.59-.52 0-1.04.2-1.43.59L10.3 9.45l-7.72 7.72c-.78.78-.78 2.05 0 2.83L4 21.41c.39.39.9.59 1.41.59.51 0 1.02-.2 1.41-.59l7.78-7.78 2.81-2.81c.8-.78.8-2.07 0-2.86zM5.41 20L4 18.59l7.72-7.72 1.47 1.35L5.41 20z\"/>\n",
              "  </svg>\n",
              "      </button>\n",
              "      \n",
              "  <style>\n",
              "    .colab-df-container {\n",
              "      display:flex;\n",
              "      flex-wrap:wrap;\n",
              "      gap: 12px;\n",
              "    }\n",
              "\n",
              "    .colab-df-convert {\n",
              "      background-color: #E8F0FE;\n",
              "      border: none;\n",
              "      border-radius: 50%;\n",
              "      cursor: pointer;\n",
              "      display: none;\n",
              "      fill: #1967D2;\n",
              "      height: 32px;\n",
              "      padding: 0 0 0 0;\n",
              "      width: 32px;\n",
              "    }\n",
              "\n",
              "    .colab-df-convert:hover {\n",
              "      background-color: #E2EBFA;\n",
              "      box-shadow: 0px 1px 2px rgba(60, 64, 67, 0.3), 0px 1px 3px 1px rgba(60, 64, 67, 0.15);\n",
              "      fill: #174EA6;\n",
              "    }\n",
              "\n",
              "    [theme=dark] .colab-df-convert {\n",
              "      background-color: #3B4455;\n",
              "      fill: #D2E3FC;\n",
              "    }\n",
              "\n",
              "    [theme=dark] .colab-df-convert:hover {\n",
              "      background-color: #434B5C;\n",
              "      box-shadow: 0px 1px 3px 1px rgba(0, 0, 0, 0.15);\n",
              "      filter: drop-shadow(0px 1px 2px rgba(0, 0, 0, 0.3));\n",
              "      fill: #FFFFFF;\n",
              "    }\n",
              "  </style>\n",
              "\n",
              "      <script>\n",
              "        const buttonEl =\n",
              "          document.querySelector('#df-4d27c220-76eb-4b99-b54e-58947f1571eb button.colab-df-convert');\n",
              "        buttonEl.style.display =\n",
              "          google.colab.kernel.accessAllowed ? 'block' : 'none';\n",
              "\n",
              "        async function convertToInteractive(key) {\n",
              "          const element = document.querySelector('#df-4d27c220-76eb-4b99-b54e-58947f1571eb');\n",
              "          const dataTable =\n",
              "            await google.colab.kernel.invokeFunction('convertToInteractive',\n",
              "                                                     [key], {});\n",
              "          if (!dataTable) return;\n",
              "\n",
              "          const docLinkHtml = 'Like what you see? Visit the ' +\n",
              "            '<a target=\"_blank\" href=https://colab.research.google.com/notebooks/data_table.ipynb>data table notebook</a>'\n",
              "            + ' to learn more about interactive tables.';\n",
              "          element.innerHTML = '';\n",
              "          dataTable['output_type'] = 'display_data';\n",
              "          await google.colab.output.renderOutput(dataTable, element);\n",
              "          const docLink = document.createElement('div');\n",
              "          docLink.innerHTML = docLinkHtml;\n",
              "          element.appendChild(docLink);\n",
              "        }\n",
              "      </script>\n",
              "    </div>\n",
              "  </div>\n",
              "  "
            ]
          },
          "metadata": {},
          "execution_count": 23
        }
      ]
    },
    {
      "cell_type": "code",
      "source": [
        "y.head()"
      ],
      "metadata": {
        "colab": {
          "base_uri": "https://localhost:8080/",
          "height": 206
        },
        "id": "os5X5lrqxi_b",
        "outputId": "5188a9a5-109e-49a6-8512-8d5075cdab89"
      },
      "execution_count": 24,
      "outputs": [
        {
          "output_type": "execute_result",
          "data": {
            "text/plain": [
              "   pm2.5\n",
              "0   42.0\n",
              "1   42.0\n",
              "2   43.0\n",
              "3   32.0\n",
              "4   23.0"
            ],
            "text/html": [
              "\n",
              "  <div id=\"df-92e68dfe-a323-40e5-9ef9-024b146814e6\">\n",
              "    <div class=\"colab-df-container\">\n",
              "      <div>\n",
              "<style scoped>\n",
              "    .dataframe tbody tr th:only-of-type {\n",
              "        vertical-align: middle;\n",
              "    }\n",
              "\n",
              "    .dataframe tbody tr th {\n",
              "        vertical-align: top;\n",
              "    }\n",
              "\n",
              "    .dataframe thead th {\n",
              "        text-align: right;\n",
              "    }\n",
              "</style>\n",
              "<table border=\"1\" class=\"dataframe\">\n",
              "  <thead>\n",
              "    <tr style=\"text-align: right;\">\n",
              "      <th></th>\n",
              "      <th>pm2.5</th>\n",
              "    </tr>\n",
              "  </thead>\n",
              "  <tbody>\n",
              "    <tr>\n",
              "      <th>0</th>\n",
              "      <td>42.0</td>\n",
              "    </tr>\n",
              "    <tr>\n",
              "      <th>1</th>\n",
              "      <td>42.0</td>\n",
              "    </tr>\n",
              "    <tr>\n",
              "      <th>2</th>\n",
              "      <td>43.0</td>\n",
              "    </tr>\n",
              "    <tr>\n",
              "      <th>3</th>\n",
              "      <td>32.0</td>\n",
              "    </tr>\n",
              "    <tr>\n",
              "      <th>4</th>\n",
              "      <td>23.0</td>\n",
              "    </tr>\n",
              "  </tbody>\n",
              "</table>\n",
              "</div>\n",
              "      <button class=\"colab-df-convert\" onclick=\"convertToInteractive('df-92e68dfe-a323-40e5-9ef9-024b146814e6')\"\n",
              "              title=\"Convert this dataframe to an interactive table.\"\n",
              "              style=\"display:none;\">\n",
              "        \n",
              "  <svg xmlns=\"http://www.w3.org/2000/svg\" height=\"24px\"viewBox=\"0 0 24 24\"\n",
              "       width=\"24px\">\n",
              "    <path d=\"M0 0h24v24H0V0z\" fill=\"none\"/>\n",
              "    <path d=\"M18.56 5.44l.94 2.06.94-2.06 2.06-.94-2.06-.94-.94-2.06-.94 2.06-2.06.94zm-11 1L8.5 8.5l.94-2.06 2.06-.94-2.06-.94L8.5 2.5l-.94 2.06-2.06.94zm10 10l.94 2.06.94-2.06 2.06-.94-2.06-.94-.94-2.06-.94 2.06-2.06.94z\"/><path d=\"M17.41 7.96l-1.37-1.37c-.4-.4-.92-.59-1.43-.59-.52 0-1.04.2-1.43.59L10.3 9.45l-7.72 7.72c-.78.78-.78 2.05 0 2.83L4 21.41c.39.39.9.59 1.41.59.51 0 1.02-.2 1.41-.59l7.78-7.78 2.81-2.81c.8-.78.8-2.07 0-2.86zM5.41 20L4 18.59l7.72-7.72 1.47 1.35L5.41 20z\"/>\n",
              "  </svg>\n",
              "      </button>\n",
              "      \n",
              "  <style>\n",
              "    .colab-df-container {\n",
              "      display:flex;\n",
              "      flex-wrap:wrap;\n",
              "      gap: 12px;\n",
              "    }\n",
              "\n",
              "    .colab-df-convert {\n",
              "      background-color: #E8F0FE;\n",
              "      border: none;\n",
              "      border-radius: 50%;\n",
              "      cursor: pointer;\n",
              "      display: none;\n",
              "      fill: #1967D2;\n",
              "      height: 32px;\n",
              "      padding: 0 0 0 0;\n",
              "      width: 32px;\n",
              "    }\n",
              "\n",
              "    .colab-df-convert:hover {\n",
              "      background-color: #E2EBFA;\n",
              "      box-shadow: 0px 1px 2px rgba(60, 64, 67, 0.3), 0px 1px 3px 1px rgba(60, 64, 67, 0.15);\n",
              "      fill: #174EA6;\n",
              "    }\n",
              "\n",
              "    [theme=dark] .colab-df-convert {\n",
              "      background-color: #3B4455;\n",
              "      fill: #D2E3FC;\n",
              "    }\n",
              "\n",
              "    [theme=dark] .colab-df-convert:hover {\n",
              "      background-color: #434B5C;\n",
              "      box-shadow: 0px 1px 3px 1px rgba(0, 0, 0, 0.15);\n",
              "      filter: drop-shadow(0px 1px 2px rgba(0, 0, 0, 0.3));\n",
              "      fill: #FFFFFF;\n",
              "    }\n",
              "  </style>\n",
              "\n",
              "      <script>\n",
              "        const buttonEl =\n",
              "          document.querySelector('#df-92e68dfe-a323-40e5-9ef9-024b146814e6 button.colab-df-convert');\n",
              "        buttonEl.style.display =\n",
              "          google.colab.kernel.accessAllowed ? 'block' : 'none';\n",
              "\n",
              "        async function convertToInteractive(key) {\n",
              "          const element = document.querySelector('#df-92e68dfe-a323-40e5-9ef9-024b146814e6');\n",
              "          const dataTable =\n",
              "            await google.colab.kernel.invokeFunction('convertToInteractive',\n",
              "                                                     [key], {});\n",
              "          if (!dataTable) return;\n",
              "\n",
              "          const docLinkHtml = 'Like what you see? Visit the ' +\n",
              "            '<a target=\"_blank\" href=https://colab.research.google.com/notebooks/data_table.ipynb>data table notebook</a>'\n",
              "            + ' to learn more about interactive tables.';\n",
              "          element.innerHTML = '';\n",
              "          dataTable['output_type'] = 'display_data';\n",
              "          await google.colab.output.renderOutput(dataTable, element);\n",
              "          const docLink = document.createElement('div');\n",
              "          docLink.innerHTML = docLinkHtml;\n",
              "          element.appendChild(docLink);\n",
              "        }\n",
              "      </script>\n",
              "    </div>\n",
              "  </div>\n",
              "  "
            ]
          },
          "metadata": {},
          "execution_count": 24
        }
      ]
    },
    {
      "cell_type": "markdown",
      "source": [
        "## Deep Learning"
      ],
      "metadata": {
        "id": "ghu9QCgwupcG"
      }
    },
    {
      "cell_type": "code",
      "metadata": {
        "id": "WSQ9rY73MGVE"
      },
      "source": [
        "#Project Model\n",
        "from keras import models\n",
        "from keras import layers\n",
        "\n",
        "def build_model():\n",
        "    opt='adam'#'rmsprop'\n",
        "    model = Sequential()\n",
        "    model.add(Dense(12, input_dim=train_data.shape[1], activation='relu'))\n",
        "    model.add(Dense(12, activation='relu',kernel_regularizer=regularizers.l2(0.002)))\n",
        "    model.add(Dense(12, activation='relu',kernel_regularizer=regularizers.l2(0.002)))\n",
        "    model.add(Dense(1))\n",
        "    model.compile(loss='mean_squared_error',\n",
        "                    optimizer=opt,\n",
        "                    metrics=['mae'])\n",
        "    return model"
      ],
      "execution_count": 25,
      "outputs": []
    },
    {
      "cell_type": "code",
      "metadata": {
        "id": "JZKw7GB3b7wf"
      },
      "source": [
        "from keras import backend as K\n",
        "\n",
        "# Some memory clean-up\n",
        "K.clear_session()"
      ],
      "execution_count": 26,
      "outputs": []
    },
    {
      "cell_type": "markdown",
      "source": [
        "### 4-fold Validation"
      ],
      "metadata": {
        "id": "RNbUdH2fuu6H"
      }
    },
    {
      "cell_type": "code",
      "metadata": {
        "id": "fpk-ek2OLoxD",
        "colab": {
          "base_uri": "https://localhost:8080/"
        },
        "outputId": "f481585b-dc30-4cc7-d8eb-e4395d8d8f57"
      },
      "source": [
        "import numpy as np\n",
        "\n",
        "k = 4\n",
        "num_val_samples = len(train_data) // k\n",
        "num_epochs = 300\n",
        "all_mae_histories = []\n",
        "for i in range(k):\n",
        "    print('processing fold #', i)\n",
        "    import datetime\n",
        "    start_time  = datetime.datetime.now()\n",
        "    # Prepare the validation data: data from partition # k\n",
        "    val_data = train_data[i * num_val_samples: (i + 1) * num_val_samples]\n",
        "    val_targets = train_targets[i * num_val_samples: (i + 1) * num_val_samples]\n",
        "\n",
        "    # Prepare the training data: data from all other partitions\n",
        "    partial_train_data = np.concatenate(\n",
        "        [train_data[:i * num_val_samples],\n",
        "         train_data[(i + 1) * num_val_samples:]],\n",
        "        axis=0)\n",
        "    partial_train_targets = np.concatenate(\n",
        "        [train_targets[:i * num_val_samples],\n",
        "         train_targets[(i + 1) * num_val_samples:]],\n",
        "        axis=0)\n",
        "\n",
        "    # Build the Keras model (already compiled)\n",
        "    model = build_model()\n",
        "    # Train the model (in silent mode, verbose=0)\n",
        "    history = model.fit(partial_train_data, partial_train_targets,\n",
        "                        validation_data=(val_data, val_targets),\n",
        "                        epochs=num_epochs, batch_size=1, verbose=0)\n",
        "    mae_history = history.history['val_mae']\n",
        "    all_mae_histories.append(mae_history)\n",
        "  \n",
        "    test_mse_score, test_mae_score = model.evaluate(test_data, test_targets)\n",
        "    end_time = datetime.datetime.now()\n",
        "    print ('Select Done..., Time Cost: %d' % ((end_time - start_time).seconds)) "
      ],
      "execution_count": 38,
      "outputs": [
        {
          "output_type": "stream",
          "name": "stdout",
          "text": [
            "processing fold # 0\n",
            "2/2 [==============================] - 0s 6ms/step - loss: 0.7119 - mae: 0.6112\n",
            "Select Done..., Time Cost: 66\n",
            "processing fold # 1\n",
            "2/2 [==============================] - 0s 6ms/step - loss: 0.5610 - mae: 0.4871\n",
            "Select Done..., Time Cost: 66\n",
            "processing fold # 2\n",
            "2/2 [==============================] - 0s 6ms/step - loss: 0.6237 - mae: 0.5748\n",
            "Select Done..., Time Cost: 82\n",
            "processing fold # 3\n",
            "2/2 [==============================] - 0s 9ms/step - loss: 0.6219 - mae: 0.5349\n",
            "Select Done..., Time Cost: 82\n"
          ]
        }
      ]
    },
    {
      "cell_type": "markdown",
      "source": [
        "Finding proper number of epochs without overfitting"
      ],
      "metadata": {
        "id": "SvjajwjJ10ij"
      }
    },
    {
      "cell_type": "code",
      "metadata": {
        "id": "O90Fj1YbLsci"
      },
      "source": [
        "count = '3'\n",
        "average_mae_history = [np.mean([x[i] for x in all_mae_histories]) for i in range(num_epochs)]\n",
        "import matplotlib.pyplot as plt\n",
        "figt = plt.gcf()\n",
        "plt.plot(range(1, len(average_mae_history) + 1), average_mae_history)\n",
        "plt.xlabel('Epochs')\n",
        "plt.ylabel('Validation MAE')\n",
        "plt.show()"
      ],
      "execution_count": null,
      "outputs": []
    },
    {
      "cell_type": "code",
      "metadata": {
        "id": "TaJgwmCwLyVC"
      },
      "source": [
        "def smooth_curve(points, factor=0.9):\n",
        "  smoothed_points = []\n",
        "  for point in points:\n",
        "    if smoothed_points:\n",
        "      previous = smoothed_points[-1]\n",
        "      smoothed_points.append(previous * factor + point * (1 - factor))\n",
        "    else:\n",
        "      smoothed_points.append(point)\n",
        "  return smoothed_points\n",
        "\n",
        "smooth_mae_history = smooth_curve(average_mae_history[10:])\n",
        "figt2 = plt.gcf()\n",
        "plt.plot(range(1, len(smooth_mae_history) + 1), smooth_mae_history)\n",
        "plt.xlabel('Epochs')\n",
        "plt.ylabel('Validation MAE')\n",
        "plt.show()"
      ],
      "execution_count": null,
      "outputs": []
    },
    {
      "cell_type": "markdown",
      "source": [
        "We found that a proper iteration is 150 epochs."
      ],
      "metadata": {
        "id": "YiJMypyF7gSF"
      }
    },
    {
      "cell_type": "markdown",
      "source": [
        "### Test Model"
      ],
      "metadata": {
        "id": "kM_kmmgC3gEs"
      }
    },
    {
      "cell_type": "code",
      "metadata": {
        "id": "EcGrqkOxNrHK",
        "colab": {
          "base_uri": "https://localhost:8080/"
        },
        "outputId": "bd514ff7-9b2b-46aa-ae91-3b0c95e97b9f"
      },
      "source": [
        "# Get a fresh, compiled model.\n",
        "model = build_model()\n",
        "# Train it on the entirety of the data.\n",
        "import datetime\n",
        "start_time  = datetime.datetime.now()\n",
        "model.fit(train_data, train_targets,epochs=50, verbose=0)\n",
        "test_mse_score, test_mae_score = model.evaluate(test_data, test_targets)\n",
        "end_time = datetime.datetime.now()\n",
        "print ('Select Done..., Time Cost: %d' % ((end_time - start_time).seconds)) "
      ],
      "execution_count": 54,
      "outputs": [
        {
          "output_type": "stream",
          "name": "stderr",
          "text": [
            "WARNING:tensorflow:5 out of the last 9307 calls to <function Model.make_test_function.<locals>.test_function at 0x7f711c55f4c0> triggered tf.function retracing. Tracing is expensive and the excessive number of tracings could be due to (1) creating @tf.function repeatedly in a loop, (2) passing tensors with different shapes, (3) passing Python objects instead of tensors. For (1), please define your @tf.function outside of the loop. For (2), @tf.function has reduce_retracing=True option that can avoid unnecessary retracing. For (3), please refer to https://www.tensorflow.org/guide/function#controlling_retracing and https://www.tensorflow.org/api_docs/python/tf/function for  more details.\n"
          ]
        },
        {
          "output_type": "stream",
          "name": "stdout",
          "text": [
            "2/2 [==============================] - 0s 5ms/step - loss: 0.5502 - mae: 0.5236\n",
            "Select Done..., Time Cost: 1\n"
          ]
        }
      ]
    },
    {
      "cell_type": "code",
      "metadata": {
        "id": "vsJHkbkHDRtw",
        "colab": {
          "base_uri": "https://localhost:8080/"
        },
        "outputId": "34a9dc8f-57c2-445b-cb20-89f46470220b"
      },
      "source": [
        "test_mae_score"
      ],
      "execution_count": 55,
      "outputs": [
        {
          "output_type": "execute_result",
          "data": {
            "text/plain": [
              "0.523589015007019"
            ]
          },
          "metadata": {},
          "execution_count": 55
        }
      ]
    },
    {
      "cell_type": "markdown",
      "source": [
        "# Best Model"
      ],
      "metadata": {
        "id": "4t7zcXBr76Z6"
      }
    },
    {
      "cell_type": "markdown",
      "source": [
        "## Load Model"
      ],
      "metadata": {
        "id": "sAWB3hye8sk-"
      }
    },
    {
      "cell_type": "code",
      "metadata": {
        "id": "tH35J2YkVHya",
        "colab": {
          "base_uri": "https://localhost:8080/"
        },
        "outputId": "ce420dd7-7796-46ff-b1df-45a9d7ff588e"
      },
      "source": [
        "# Load saved model\n",
        "from keras.models import load_model\n",
        "model = load_model(dir+'/scaler/'+scaler+'/'+hint+'/result/model_'+hint+'.hdf5')\n",
        "print(model.summary())"
      ],
      "execution_count": 61,
      "outputs": [
        {
          "output_type": "stream",
          "name": "stdout",
          "text": [
            "Model: \"sequential_88\"\n",
            "_________________________________________________________________\n",
            " Layer (type)                Output Shape              Param #   \n",
            "=================================================================\n",
            " dense_349 (Dense)           (None, 12)                120       \n",
            "                                                                 \n",
            " dense_350 (Dense)           (None, 12)                156       \n",
            "                                                                 \n",
            " dense_351 (Dense)           (None, 12)                156       \n",
            "                                                                 \n",
            " dense_352 (Dense)           (None, 1)                 13        \n",
            "                                                                 \n",
            "=================================================================\n",
            "Total params: 445\n",
            "Trainable params: 445\n",
            "Non-trainable params: 0\n",
            "_________________________________________________________________\n",
            "None\n"
          ]
        }
      ]
    },
    {
      "cell_type": "markdown",
      "source": [
        "## Plotting Function"
      ],
      "metadata": {
        "id": "uiRjpVxN8u2Q"
      }
    },
    {
      "cell_type": "code",
      "metadata": {
        "id": "D-9umdelH6ok"
      },
      "source": [
        "# RMSE calculation function\n",
        "from math import sqrt\n",
        "def rmse(y_actual, y_predicted):\n",
        "    return sqrt(mean_squared_error(y_actual, y_predicted))\n",
        "    \n",
        "# MAPE calculation function\n",
        "def mape(y_true, y_pred):\n",
        "    y_true, y_pred = np.array(y_true), np.array(y_pred)\n",
        "    return np.mean(np.abs((y_true - y_pred) / y_true)) * 100"
      ],
      "execution_count": 62,
      "outputs": []
    },
    {
      "cell_type": "code",
      "metadata": {
        "id": "F3OPhjJ6QHyl"
      },
      "source": [
        "scalerx = joblib.load(dir+'/scaler/'+scaler+'/'+hint+'/XHscaler.save') \n",
        "scalery = joblib.load(dir+'/scaler/'+scaler+'/'+hint+'/YHscaler.save') "
      ],
      "execution_count": 63,
      "outputs": []
    },
    {
      "cell_type": "code",
      "metadata": {
        "id": "4FMJPTupIR9h"
      },
      "source": [
        "# density_scatter plot function \n",
        "\n",
        "def density_scatter( x , y, ax = None, sort = True, bins = 20, figsize=(6,4), **kwargs )   :\n",
        "    \"\"\"\n",
        "    Scatter plot colored by 2d histogram\n",
        "    \"\"\"\n",
        "    x=x.reshape(len(x))\n",
        "    y=y.reshape(len(y))\n",
        "    if ax is None :\n",
        "        fig , ax = plt.subplots(figsize=figsize)\n",
        "    data , x_e, y_e = np.histogram2d( x, y, bins = bins)\n",
        "    z = interpn( ( 0.5*(x_e[1:] + x_e[:-1]) , 0.5*(y_e[1:]+y_e[:-1]) ) , data , np.vstack([x,y]).T , method = \"splinef2d\", bounds_error = False )\n",
        "\n",
        "    # Sort the points by density, so that the densest points are plotted last\n",
        "    if sort :\n",
        "        idx = z.argsort()\n",
        "        x, y, z = x[idx], y[idx], z[idx]\n",
        "    cmap = matplotlib.cm.get_cmap('jet')\n",
        "    normalize = matplotlib.colors.Normalize(vmin=0, vmax=max(z))#min(z)\n",
        "    ax.scatter( x, y, c=z, **kwargs ,cmap=cmap)\n",
        "    cax, _ = matplotlib.colorbar.make_axes(ax)\n",
        "    cbar = matplotlib.colorbar.ColorbarBase(cax, cmap=cmap, norm=normalize)\n",
        "    z = np.polyfit(x, y, 1)\n",
        "    p = np.poly1d(z)\n",
        "    print(z)\n",
        "    ax.plot(x,p(x),\"r-\")\n",
        "    ax.plot(x,x,\":\",color='grey')\n",
        "    return ax,fig,z"
      ],
      "execution_count": 64,
      "outputs": []
    },
    {
      "cell_type": "markdown",
      "source": [
        "## Plotting Evaluation"
      ],
      "metadata": {
        "id": "mgM4DyKd8_rH"
      }
    },
    {
      "cell_type": "markdown",
      "source": [
        "### Evaluate with Train dataset"
      ],
      "metadata": {
        "id": "CDablF7i8zKH"
      }
    },
    {
      "cell_type": "code",
      "metadata": {
        "id": "Gtk4hu_rCXzF",
        "colab": {
          "base_uri": "https://localhost:8080/"
        },
        "outputId": "f31353b0-b6a5-4988-ba06-ff3cba704f45"
      },
      "source": [
        "# evaluting the model using TRAIN dataset    \n",
        "dfte= pd.DataFrame( columns=['features','r2','mae','rmse'])\n",
        "y_pred = model.predict(train_data)\n",
        "y_predinv = scalery.inverse_transform(y_pred)\n",
        "y_testinv = scalery.inverse_transform(train_targets)     \n",
        "mae=mean_absolute_error(y_testinv, y_predinv)\n",
        "r2=r2_score( y_testinv, y_predinv)\n",
        "rmse_value= rmse(y_testinv, y_predinv)\n",
        "print(' R2 = %.3f '  % r2 )\n",
        "print(' MAE = %.3f '  % mae)\n",
        "print(' RMSE = %.3f '  % rmse_value)\n",
        "print(r2,'  ',mae,' ', rmse_value)\n",
        "data=['No', r2, mae, rmse_value] \n",
        "dftn=dfte.append(pd.DataFrame(  [data]  , columns=['features','r2','mae','rmse']))"
      ],
      "execution_count": 65,
      "outputs": [
        {
          "output_type": "stream",
          "name": "stdout",
          "text": [
            "4/4 [==============================] - 0s 2ms/step\n",
            " R2 = 0.879 \n",
            " MAE = 3.834 \n",
            " RMSE = 5.295 \n",
            "0.8789939299159623    3.833891418457031   5.295272045410794\n"
          ]
        }
      ]
    },
    {
      "cell_type": "code",
      "metadata": {
        "id": "jO6VdGG4OLJR",
        "colab": {
          "base_uri": "https://localhost:8080/",
          "height": 559
        },
        "outputId": "5c3bf271-2074-40bf-ab82-5076338f4bab"
      },
      "source": [
        "# ploting the results [TRAIN]\n",
        "text='R2= '+format(r2, '.2f') + ' MAE= '+format(mae, '.2f')+ ' RMSE= '+format(rmse_value, '.2f')\n",
        "ax,fig1,z=density_scatter( y_testinv.reshape(len(y_testinv)), y_predinv, bins = [15,15] , figsize=(10,8))\n",
        "ax.set_title('Deep learning Modeling'  , fontsize=16,fontweight='bold')\n",
        "pol_text='y=%.2f x+%.2f, DB size=%0.1fK' % (z[0],z[1],(dataset_size/1000))\n",
        "ax.set_xlabel(\"Observed PM2.5\", fontsize=16)\n",
        "ax.set_ylabel(\"Predicted PM2.5\", fontsize=16)\n",
        "ax.legend([pol_text,'y=x ',text], fontsize='x-large')\n",
        "ax.tick_params(axis='both', which='major', labelsize=12)\n",
        "ax.patch.set_facecolor('white')\n",
        "ax.set_ylim(0,100)\n",
        "ax.set_xlim(0,100)"
      ],
      "execution_count": 66,
      "outputs": [
        {
          "output_type": "stream",
          "name": "stdout",
          "text": [
            "[0.8533583  3.76876918]\n"
          ]
        },
        {
          "output_type": "execute_result",
          "data": {
            "text/plain": [
              "(0.0, 100.0)"
            ]
          },
          "metadata": {},
          "execution_count": 66
        },
        {
          "output_type": "display_data",
          "data": {
            "text/plain": [
              "<Figure size 720x576 with 2 Axes>"
            ],
            "image/png": "[encoded data removed]"
          },
          "metadata": {
            "needs_background": "light"
          }
        }
      ]
    },
    {
      "cell_type": "markdown",
      "source": [
        "### Evaluate with Test dataset"
      ],
      "metadata": {
        "id": "0hyi42HA85Do"
      }
    },
    {
      "cell_type": "code",
      "metadata": {
        "id": "aBXHl0AjPWHc",
        "colab": {
          "base_uri": "https://localhost:8080/"
        },
        "outputId": "18bdd7f0-931c-41af-ca76-556ad85f90b3"
      },
      "source": [
        "# evaluting the model using TEST dataset    \n",
        "dfte= pd.DataFrame( columns=['features','r2','mae','rmse'])\n",
        "\n",
        "y_pred = model.predict(test_data)\n",
        "y_predinv = scalery.inverse_transform(y_pred)\n",
        "y_testinv = scalery.inverse_transform(test_targets)     \n",
        "mae=mean_absolute_error(y_testinv, y_predinv)\n",
        "r2=r2_score( y_testinv, y_predinv)\n",
        "rmse_value= rmse(y_testinv, y_predinv)\n",
        "mape = mape(y_testinv, y_predinv)\n",
        "print(' R2 = %.3f '  % r2 )\n",
        "print(' MAE = %.3f '  % mae)\n",
        "print(' RMSE = %.3f '  % rmse_value )\n",
        "print(' MAPE = %.3f' % mape)\n",
        "print(r2,'  ',mae,' ', rmse_value)\n",
        "data=['No', r2, mae, rmse_value] \n",
        "dftn=dfte.append(pd.DataFrame(  [data]  , columns=['features','r2','mae','rmse']))"
      ],
      "execution_count": 68,
      "outputs": [
        {
          "output_type": "stream",
          "name": "stdout",
          "text": [
            "2/2 [==============================] - 0s 4ms/step\n",
            " R2 = 0.676 \n",
            " MAE = 6.748 \n",
            " RMSE = 10.056 \n",
            " MAPE = 26.285\n",
            "0.6763161385063081    6.748289593943843   10.055557807452333\n"
          ]
        }
      ]
    },
    {
      "cell_type": "code",
      "metadata": {
        "id": "Nr7Q2CIfHXPx",
        "colab": {
          "base_uri": "https://localhost:8080/",
          "height": 546
        },
        "outputId": "34bd8679-517c-4e08-bcae-a361af567ce1"
      },
      "source": [
        "# ploting the results [TEST]\n",
        "text='R2= '+format(r2, '.2f') + ' MAE= '+format(mae, '.2f')+ ' MAPE= '+format(mape, '.2f')\n",
        "#' RMSE= '+format(rmse_value, '.2f')\n",
        "ax,fig1,z=density_scatter( y_testinv.reshape(len(y_testinv)), y_predinv, bins = [15,15] , figsize=(10,8))\n",
        "# ax.set_title(head , fontsize=16,fontweight='bold')\n",
        "pol_text='y=%.2f x+%.2f, DB size=%0.1fK' % (z[0],z[1],(dataset_size/1000))\n",
        "ax.set_xlabel(\"Observed PM2.5\", fontsize=16)\n",
        "ax.set_ylabel(\"Predicted PM2.5\", fontsize=16)\n",
        "ax.legend([pol_text,'y=x ',text], fontsize='x-large')\n",
        "ax.tick_params(axis='both', which='major', labelsize=12)\n",
        "ax.patch.set_facecolor('white')\n",
        "ax.set_ylim(0,100)\n",
        "ax.set_xlim(0,100)"
      ],
      "execution_count": 69,
      "outputs": [
        {
          "output_type": "stream",
          "name": "stdout",
          "text": [
            "[0.72070846 5.48609691]\n"
          ]
        },
        {
          "output_type": "execute_result",
          "data": {
            "text/plain": [
              "(0.0, 100.0)"
            ]
          },
          "metadata": {},
          "execution_count": 69
        },
        {
          "output_type": "display_data",
          "data": {
            "text/plain": [
              "<Figure size 720x576 with 2 Axes>"
            ],
            "image/png": "[encoded data removed]"
          },
          "metadata": {
            "needs_background": "light"
          }
        }
      ]
    }
  ]
}